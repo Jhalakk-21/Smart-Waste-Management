{
 "cells": [
  {
   "cell_type": "markdown",
   "metadata": {
    "id": "ooht7_ttKB3L"
   },
   "source": [
    "## Training\n",
    "\n",
    "Taking the pretrained squeezenet form pytorch and finetuning on trashnet. To run this file download the dataset and put the data directory into \"data_dir\" variable.\n"
   ]
  },
  {
   "cell_type": "code",
   "execution_count": 4,
   "metadata": {
    "_cell_guid": "b1076dfc-b9ad-4769-8c92-a6c4dae69d19",
    "_uuid": "8f2839f25d086af736a60e9eeb907d3b93b6e0e5",
    "colab": {
     "base_uri": "https://localhost:8080/"
    },
    "execution": {
     "iopub.execute_input": "2024-11-11T16:03:27.083873Z",
     "iopub.status.busy": "2024-11-11T16:03:27.082916Z",
     "iopub.status.idle": "2024-11-11T16:05:17.632141Z",
     "shell.execute_reply": "2024-11-11T16:05:17.630885Z",
     "shell.execute_reply.started": "2024-11-11T16:03:27.083827Z"
    },
    "id": "fVqXJEfbmaxN",
    "outputId": "e1e8faee-de85-45da-d398-29b9ab176299",
    "trusted": true
   },
   "outputs": [
    {
     "name": "stdout",
     "output_type": "stream",
     "text": [
      "Epoch 1/30\n",
      "----------\n",
      "train Loss: 0.9387 Acc: 0.5057\n",
      "val Loss: 0.8708 Acc: 0.5494\n",
      "Epoch 2/30\n",
      "----------\n",
      "train Loss: 0.8156 Acc: 0.6078\n",
      "val Loss: 0.6667 Acc: 0.6728\n",
      "Epoch 3/30\n",
      "----------\n",
      "train Loss: 0.6886 Acc: 0.7141\n",
      "val Loss: 0.5945 Acc: 0.7160\n",
      "Epoch 4/30\n",
      "----------\n",
      "train Loss: 0.5711 Acc: 0.7533\n",
      "val Loss: 0.6702 Acc: 0.6975\n",
      "Epoch 5/30\n",
      "----------\n",
      "train Loss: 0.6444 Acc: 0.7304\n",
      "val Loss: 0.6725 Acc: 0.6420\n",
      "Epoch 6/30\n",
      "----------\n",
      "train Loss: 0.6216 Acc: 0.7198\n",
      "val Loss: 0.5049 Acc: 0.7716\n",
      "Epoch 7/30\n",
      "----------\n",
      "train Loss: 0.5303 Acc: 0.7786\n",
      "val Loss: 0.9913 Acc: 0.6728\n",
      "Epoch 8/30\n",
      "----------\n",
      "train Loss: 0.5955 Acc: 0.7712\n",
      "val Loss: 0.6072 Acc: 0.7160\n",
      "Epoch 9/30\n",
      "----------\n",
      "train Loss: 0.4528 Acc: 0.8162\n",
      "val Loss: 0.4371 Acc: 0.7778\n",
      "Epoch 10/30\n",
      "----------\n",
      "train Loss: 0.4811 Acc: 0.7949\n",
      "val Loss: 0.3710 Acc: 0.8272\n",
      "Epoch 11/30\n",
      "----------\n",
      "train Loss: 0.4574 Acc: 0.8023\n",
      "val Loss: 0.5046 Acc: 0.7716\n",
      "Epoch 12/30\n",
      "----------\n",
      "train Loss: 0.4845 Acc: 0.7925\n",
      "val Loss: 0.4766 Acc: 0.7840\n",
      "Epoch 13/30\n",
      "----------\n",
      "train Loss: 0.4269 Acc: 0.8391\n",
      "val Loss: 0.3926 Acc: 0.8395\n",
      "Epoch 14/30\n",
      "----------\n",
      "train Loss: 0.3577 Acc: 0.8644\n",
      "val Loss: 0.3866 Acc: 0.8642\n",
      "Epoch 15/30\n",
      "----------\n",
      "train Loss: 0.3985 Acc: 0.8431\n",
      "val Loss: 0.3395 Acc: 0.8395\n",
      "Epoch 16/30\n",
      "----------\n",
      "train Loss: 0.3374 Acc: 0.8668\n",
      "val Loss: 0.3199 Acc: 0.8642\n",
      "Epoch 17/30\n",
      "----------\n",
      "train Loss: 0.3738 Acc: 0.8521\n",
      "val Loss: 0.4837 Acc: 0.8086\n",
      "Epoch 18/30\n",
      "----------\n",
      "train Loss: 0.3560 Acc: 0.8611\n",
      "val Loss: 0.3357 Acc: 0.8580\n",
      "Epoch 19/30\n",
      "----------\n",
      "train Loss: 0.3461 Acc: 0.8701\n",
      "val Loss: 0.2846 Acc: 0.8827\n",
      "Epoch 20/30\n",
      "----------\n",
      "train Loss: 0.3564 Acc: 0.8619\n",
      "val Loss: 0.3945 Acc: 0.8333\n",
      "Epoch 21/30\n",
      "----------\n",
      "train Loss: 0.3326 Acc: 0.8709\n",
      "val Loss: 0.3094 Acc: 0.8704\n",
      "Epoch 22/30\n",
      "----------\n",
      "train Loss: 0.3025 Acc: 0.8815\n",
      "val Loss: 0.2912 Acc: 0.8580\n",
      "Epoch 23/30\n",
      "----------\n",
      "train Loss: 0.3153 Acc: 0.8832\n",
      "val Loss: 0.4300 Acc: 0.8210\n",
      "Epoch 24/30\n",
      "----------\n",
      "train Loss: 0.3179 Acc: 0.8725\n",
      "val Loss: 0.3537 Acc: 0.8519\n",
      "Epoch 25/30\n",
      "----------\n",
      "train Loss: 0.3047 Acc: 0.8864\n",
      "val Loss: 0.3304 Acc: 0.8642\n",
      "Epoch 26/30\n",
      "----------\n",
      "train Loss: 0.2589 Acc: 0.8954\n",
      "val Loss: 0.3958 Acc: 0.8765\n",
      "Epoch 27/30\n",
      "----------\n",
      "train Loss: 0.2854 Acc: 0.8971\n",
      "val Loss: 0.2892 Acc: 0.8827\n",
      "Epoch 28/30\n",
      "----------\n",
      "train Loss: 0.2602 Acc: 0.9028\n",
      "val Loss: 0.4381 Acc: 0.8457\n",
      "Epoch 29/30\n",
      "----------\n",
      "train Loss: 0.2782 Acc: 0.8938\n",
      "val Loss: 0.3621 Acc: 0.8642\n",
      "Epoch 30/30\n",
      "----------\n",
      "train Loss: 0.2542 Acc: 0.8962\n",
      "val Loss: 0.2912 Acc: 0.8765\n",
      "Training complete\n"
     ]
    }
   ],
   "source": [
    "import torch\n",
    "import torch.nn as nn\n",
    "import torch.optim as optim\n",
    "from torchvision import datasets, models, transforms\n",
    "from torch.utils.data import DataLoader\n",
    "\n",
    "num_classes = 3  #(classes are cardboard, glass and plastic)\n",
    "batch_size = 32\n",
    "num_epochs = 30\n",
    "learning_rate = 0.001\n",
    "\n",
    "# addinf transformations like resizing and cropping\n",
    "data_transforms = {\n",
    "    'train': transforms.Compose([\n",
    "        transforms.RandomResizedCrop(224),\n",
    "        transforms.RandomHorizontalFlip(),\n",
    "        transforms.ToTensor(),\n",
    "        transforms.Normalize([0.485, 0.456, 0.406], [0.229, 0.224, 0.225])\n",
    "    ]),\n",
    "    'val': transforms.Compose([\n",
    "        transforms.Resize(256),\n",
    "        transforms.CenterCrop(224),\n",
    "        transforms.ToTensor(),\n",
    "        transforms.Normalize([0.485, 0.456, 0.406], [0.229, 0.224, 0.225])\n",
    "    ]),\n",
    "}\n",
    "\n",
    "data_dir = '/content/drive/MyDrive/project_cs667/FD-MobileNet/dataset-resized/'  # download the dataset and set the path here\n",
    "image_datasets = {\n",
    "    'train': datasets.ImageFolder(root=f'{data_dir}/train', transform=data_transforms['train']),\n",
    "    'val': datasets.ImageFolder(root=f'{data_dir}/valid', transform=data_transforms['val'])\n",
    "}\n",
    "\n",
    "#defining the dataloaders\n",
    "dataloaders = {\n",
    "    'train': DataLoader(image_datasets['train'], batch_size=batch_size, shuffle=True),\n",
    "    'val': DataLoader(image_datasets['val'], batch_size=batch_size, shuffle=False)\n",
    "}\n",
    "dataset_sizes = {x: len(image_datasets[x]) for x in ['train', 'val']}\n",
    "device = torch.device(\"cuda:0\" if torch.cuda.is_available() else \"cpu\")\n",
    "\n",
    "# Load the pretrained SqueezeNet model\n",
    "model = models.squeezenet1_1(pretrained=True)\n",
    "\n",
    "model.classifier[1] = nn.Conv2d(512, num_classes, kernel_size=(1, 1), stride=(1, 1))\n",
    "model.num_classes = num_classes\n",
    "\n",
    "model = model.to(device)\n",
    "\n",
    "criterion = nn.CrossEntropyLoss()\n",
    "optimizer = optim.Adam(model.parameters(), lr=learning_rate)\n",
    "\n",
    "\n",
    "#function to train the model\n",
    "def train_model(model, criterion, optimizer, num_epochs=10):\n",
    "    for epoch in range(num_epochs):\n",
    "        print(f'Epoch {epoch + 1}/{num_epochs}')\n",
    "        print('-' * 10)\n",
    "\n",
    "        for phase in ['train', 'val']:\n",
    "            if phase == 'train':\n",
    "                model.train()\n",
    "            else:\n",
    "                model.eval()\n",
    "\n",
    "            running_loss = 0.0\n",
    "            running_corrects = 0\n",
    "\n",
    "            for inputs, labels in dataloaders[phase]:\n",
    "                inputs, labels = inputs.to(device), labels.to(device)\n",
    "\n",
    "                optimizer.zero_grad()\n",
    "\n",
    "                with torch.set_grad_enabled(phase == 'train'):\n",
    "                    outputs = model(inputs)\n",
    "                    _, preds = torch.max(outputs, 1)\n",
    "                    loss = criterion(outputs, labels)\n",
    "\n",
    "                    if phase == 'train':\n",
    "                        loss.backward()\n",
    "                        optimizer.step()\n",
    "\n",
    "                running_loss += loss.item() * inputs.size(0)\n",
    "                running_corrects += torch.sum(preds == labels.data)\n",
    "\n",
    "            epoch_loss = running_loss / dataset_sizes[phase]\n",
    "            epoch_acc = running_corrects.double() / dataset_sizes[phase]\n",
    "\n",
    "            print(f'{phase} Loss: {epoch_loss:.4f} Acc: {epoch_acc:.4f}')\n",
    "\n",
    "    print('Training complete')\n",
    "\n",
    "train_model(model, criterion, optimizer, num_epochs=num_epochs)\n"
   ]
  },
  {
   "cell_type": "markdown",
   "metadata": {
    "id": "4J2f0nIVKb5v"
   },
   "source": [
    "## Testing on the test loader\n",
    "\n",
    "The below code tests the model on the test dataset (which is validation dataset) in this case.\n"
   ]
  },
  {
   "cell_type": "code",
   "execution_count": 5,
   "metadata": {
    "colab": {
     "base_uri": "https://localhost:8080/"
    },
    "id": "AQ8kkn46sv8I",
    "outputId": "70ef5f55-95b7-44c1-a245-3b4bbb0db65c"
   },
   "outputs": [
    {
     "name": "stderr",
     "output_type": "stream",
     "text": [
      "Testing: 100%|██████████| 6/6 [00:01<00:00,  4.79it/s]"
     ]
    },
    {
     "name": "stdout",
     "output_type": "stream",
     "text": [
      "Test Loss: 0.2912\n",
      "Test Accuracy: 87.65%\n"
     ]
    },
    {
     "name": "stderr",
     "output_type": "stream",
     "text": [
      "\n"
     ]
    }
   ],
   "source": [
    "from torchvision import datasets, transforms\n",
    "from torch.utils.data import DataLoader\n",
    "\n",
    "import torch\n",
    "import torch.nn as nn\n",
    "from tqdm import tqdm\n",
    "\n",
    "# Define transforms for test dataset\n",
    "test_transforms = {\n",
    "    'test': transforms.Compose([\n",
    "        transforms.Resize(256),\n",
    "        transforms.CenterCrop(224),\n",
    "        transforms.ToTensor(),\n",
    "        transforms.Normalize([0.485, 0.456, 0.406], [0.229, 0.224, 0.225])\n",
    "    ])\n",
    "}\n",
    "\n",
    "test_datasets = {\n",
    "    'test': datasets.ImageFolder(root=f'{data_dir}/valid', transform=test_transforms['test'])\n",
    "}\n",
    "\n",
    "test_loader = {\n",
    "    'test': DataLoader(test_datasets['test'], batch_size=batch_size, shuffle=False)\n",
    "}\n",
    "\n",
    "\n",
    "device = torch.device(\"cuda:0\" if torch.cuda.is_available() else \"cpu\")\n",
    "\n",
    "model.eval()\n",
    "\n",
    "correct = 0\n",
    "total = 0\n",
    "criterion = nn.CrossEntropyLoss()\n",
    "test_loss = 0.0\n",
    "\n",
    "with torch.no_grad():\n",
    "    for inputs, labels in tqdm(test_loader['test'], desc=\"Testing\"):\n",
    "        inputs, labels = inputs.to(device), labels.to(device)  # Move to device\n",
    "\n",
    "        # Forward pass\n",
    "        outputs = model(inputs)\n",
    "        loss = criterion(outputs, labels)\n",
    "\n",
    "        test_loss += loss.item() * inputs.size(0)\n",
    "\n",
    "        _, predicted = torch.max(outputs, 1)\n",
    "\n",
    "        total += labels.size(0)\n",
    "        correct += (predicted == labels).sum().item()\n",
    "\n",
    "test_loss = test_loss / total\n",
    "test_accuracy = correct / total * 100\n",
    "\n",
    "print(f\"Test Loss: {test_loss:.4f}\")\n",
    "print(f\"Test Accuracy: {test_accuracy:.2f}%\")\n"
   ]
  },
  {
   "cell_type": "markdown",
   "metadata": {
    "id": "vzzEbdPOLJe8"
   },
   "source": [
    "## Generating the confusion matrix\n",
    "\n",
    "The below code generates the confusion matrix."
   ]
  },
  {
   "cell_type": "code",
   "execution_count": null,
   "metadata": {
    "colab": {
     "base_uri": "https://localhost:8080/",
     "height": 563
    },
    "id": "eh3wkOD7sPOZ",
    "outputId": "f26f39db-a879-4a94-ed54-faa898d0e921"
   },
   "outputs": [
    {
     "name": "stdout",
     "output_type": "stream",
     "text": [
      "{'test': <torch.utils.data.dataloader.DataLoader object at 0x7b309035cf10>}\n"
     ]
    },
    {
     "data": {
      "image/png": "[encoded data removed]",
      "text/plain": [
       "<Figure size 640x480 with 2 Axes>"
      ]
     },
     "metadata": {},
     "output_type": "display_data"
    },
    {
     "name": "stdout",
     "output_type": "stream",
     "text": [
      "Confusion Matrix:\n",
      " [[48  1  5]\n",
      " [ 0 50  4]\n",
      " [ 0 10 44]]\n"
     ]
    }
   ],
   "source": [
    "import torch\n",
    "import numpy as np\n",
    "from sklearn.metrics import confusion_matrix, ConfusionMatrixDisplay\n",
    "import matplotlib.pyplot as plt\n",
    "\n",
    "model.eval()\n",
    "\n",
    "all_preds = []\n",
    "all_labels = []\n",
    "\n",
    "print(test_loader)\n",
    "with torch.no_grad():\n",
    "    for inputs, labels in test_loader['test']:  \n",
    "        inputs, labels = inputs.to(device), labels.to(device)  \n",
    "        outputs = model(inputs)  \n",
    "        _, preds = torch.max(outputs, 1)  # \n",
    "        all_preds.extend(preds.cpu().numpy())  \n",
    "        all_labels.extend(labels.cpu().numpy())  \n",
    "\n",
    "cm = confusion_matrix(all_labels, all_preds)\n",
    "\n",
    "class_labels = ['cardboard', 'glass', 'plastic']  \n",
    "\n",
    "disp = ConfusionMatrixDisplay(confusion_matrix=cm, display_labels=class_labels)\n",
    "disp.plot(cmap=plt.cm.Blues)\n",
    "plt.title(\"Confusion Matrix\")\n",
    "plt.show()\n",
    "\n",
    "print(\"Confusion Matrix:\\n\", cm)\n"
   ]
  }
 ],
 "metadata": {
  "accelerator": "GPU",
  "colab": {
   "gpuType": "T4",
   "provenance": []
  },
  "kaggle": {
   "accelerator": "none",
   "dataSources": [
    {
     "datasetId": 1730328,
     "sourceId": 2828934,
     "sourceType": "datasetVersion"
    },
    {
     "datasetId": 6048571,
     "sourceId": 9856306,
     "sourceType": "datasetVersion"
    },
    {
     "datasetId": 6060311,
     "sourceId": 9872101,
     "sourceType": "datasetVersion"
    }
   ],
   "dockerImageVersionId": 30787,
   "isGpuEnabled": false,
   "isInternetEnabled": true,
   "language": "python",
   "sourceType": "notebook"
  },
  "kernelspec": {
   "display_name": "Python 3",
   "name": "python3"
  },
  "language_info": {
   "codemirror_mode": {
    "name": "ipython",
    "version": 3
   },
   "file_extension": ".py",
   "mimetype": "text/x-python",
   "name": "python",
   "nbconvert_exporter": "python",
   "pygments_lexer": "ipython3",
   "version": "3.10.14"
  }
 },
 "nbformat": 4,
 "nbformat_minor": 0
}
